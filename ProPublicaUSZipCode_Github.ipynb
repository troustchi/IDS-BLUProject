{
 "cells": [
  {
   "cell_type": "code",
   "execution_count": 113,
   "metadata": {},
   "outputs": [],
   "source": [
    "# project description -- so what this project will do is:\n",
    "# 1) load in the ProPublica dataset of traffic tickets for Chicago \n",
    "# 2) format the data so that it is usable -- zipcode in particular needs formatting as it is zip+4 in some \n",
    "# places, 5 digit zip in others\n",
    "# 3) run a heatmap showing the traffic ticket \"hot spots\"\n",
    "# 4) run an analysis on the violation codes, looking specifically for those involving bike lane obstruction \n",
    "\n",
    "\n",
    "# future plans\n",
    "# * load in the data on 311 complaints about blocked bike lanes \n",
    "# correlate the traffic tickets issued "
   ]
  },
  {
   "cell_type": "code",
   "execution_count": 114,
   "metadata": {},
   "outputs": [],
   "source": [
    "import pandas as pd\n",
    "import numpy as np\n",
    "import folium\n",
    "from folium import plugins\n",
    "from folium.plugins import HeatMap\n",
    "import pandas as pd\n",
    "import matplotlib.pyplot as plt\n",
    "import seaborn as sns\n",
    "\n",
    "%matplotlib inline\n",
    "# BLU-Metis-Project/data/ProPublica data/processed\n",
    "# read in the raw data\n",
    "\n",
    "# 1) load in the ProPublica dataset of traffic tickets for Chicago -- note that Github will only take a limited size\n",
    "# sample, so we call the sample file not the whole thing\n",
    "\n",
    "PPTicketData = pd.read_csv('data/ProPublica data/processed/parking_tickets_sample.csv', sep=',')\n",
    "#PPTicketData.to_csv(r'data/ProPublica data/processed/parking_tickets_sample.csv')"
   ]
  },
  {
   "cell_type": "code",
   "execution_count": 115,
   "metadata": {
    "scrolled": true
   },
   "outputs": [
    {
     "data": {
      "text/html": [
       "<div>\n",
       "<style scoped>\n",
       "    .dataframe tbody tr th:only-of-type {\n",
       "        vertical-align: middle;\n",
       "    }\n",
       "\n",
       "    .dataframe tbody tr th {\n",
       "        vertical-align: top;\n",
       "    }\n",
       "\n",
       "    .dataframe thead th {\n",
       "        text-align: right;\n",
       "    }\n",
       "</style>\n",
       "<table border=\"1\" class=\"dataframe\">\n",
       "  <thead>\n",
       "    <tr style=\"text-align: right;\">\n",
       "      <th></th>\n",
       "      <th>Unnamed: 0</th>\n",
       "      <th>ticket_number</th>\n",
       "      <th>issue_date</th>\n",
       "      <th>violation_location</th>\n",
       "      <th>license_plate_number</th>\n",
       "      <th>license_plate_state</th>\n",
       "      <th>license_plate_type</th>\n",
       "      <th>zipcode</th>\n",
       "      <th>violation_code</th>\n",
       "      <th>violation_description</th>\n",
       "      <th>...</th>\n",
       "      <th>fine_level2_amount</th>\n",
       "      <th>current_amount_due</th>\n",
       "      <th>total_payments</th>\n",
       "      <th>ticket_queue</th>\n",
       "      <th>ticket_queue_date</th>\n",
       "      <th>notice_level</th>\n",
       "      <th>hearing_disposition</th>\n",
       "      <th>notice_number</th>\n",
       "      <th>officer</th>\n",
       "      <th>address</th>\n",
       "    </tr>\n",
       "  </thead>\n",
       "  <tbody>\n",
       "    <tr>\n",
       "      <th>0</th>\n",
       "      <td>0</td>\n",
       "      <td>51551278</td>\n",
       "      <td>2007-01-01 00:00:00</td>\n",
       "      <td>6014 W 64TH ST</td>\n",
       "      <td>90ad622c3274c9bdc9d8c812b79a01d0aaf7479f2bd743...</td>\n",
       "      <td>IL</td>\n",
       "      <td>PAS</td>\n",
       "      <td>60638</td>\n",
       "      <td>0976160F</td>\n",
       "      <td>EXPIRED PLATES OR TEMPORARY REGISTRATION</td>\n",
       "      <td>...</td>\n",
       "      <td>100</td>\n",
       "      <td>0.0</td>\n",
       "      <td>100.0</td>\n",
       "      <td>Paid</td>\n",
       "      <td>2007-05-21 00:00:00</td>\n",
       "      <td>SEIZ</td>\n",
       "      <td>NaN</td>\n",
       "      <td>5048648030</td>\n",
       "      <td>15227</td>\n",
       "      <td>6000 w 64th st, chicago, il</td>\n",
       "    </tr>\n",
       "    <tr>\n",
       "      <th>1</th>\n",
       "      <td>1</td>\n",
       "      <td>51491256</td>\n",
       "      <td>2007-01-01 00:00:00</td>\n",
       "      <td>530 N MICHIGAN</td>\n",
       "      <td>bce4dc26b2c96965380cb2b838cdbb95632b7b57160612...</td>\n",
       "      <td>IL</td>\n",
       "      <td>PAS</td>\n",
       "      <td>606343801</td>\n",
       "      <td>0964150B</td>\n",
       "      <td>PARKING/STANDING PROHIBITED ANYTIME</td>\n",
       "      <td>...</td>\n",
       "      <td>100</td>\n",
       "      <td>50.0</td>\n",
       "      <td>0.0</td>\n",
       "      <td>Define</td>\n",
       "      <td>2007-01-22 00:00:00</td>\n",
       "      <td>NaN</td>\n",
       "      <td>NaN</td>\n",
       "      <td>0</td>\n",
       "      <td>18320</td>\n",
       "      <td>500 n michigan, chicago, il</td>\n",
       "    </tr>\n",
       "    <tr>\n",
       "      <th>2</th>\n",
       "      <td>2</td>\n",
       "      <td>50433524</td>\n",
       "      <td>2007-01-01 00:01:00</td>\n",
       "      <td>4001 N LONG</td>\n",
       "      <td>44641e828f4d894c883c07c566063c2d99d08f2c03b3d4...</td>\n",
       "      <td>IL</td>\n",
       "      <td>PAS</td>\n",
       "      <td>60148</td>\n",
       "      <td>0976160F</td>\n",
       "      <td>EXPIRED PLATES OR TEMPORARY REGISTRATION</td>\n",
       "      <td>...</td>\n",
       "      <td>100</td>\n",
       "      <td>0.0</td>\n",
       "      <td>50.0</td>\n",
       "      <td>Paid</td>\n",
       "      <td>2007-01-31 00:00:00</td>\n",
       "      <td>VIOL</td>\n",
       "      <td>NaN</td>\n",
       "      <td>5079875240</td>\n",
       "      <td>3207</td>\n",
       "      <td>4000 n long, chicago, il</td>\n",
       "    </tr>\n",
       "    <tr>\n",
       "      <th>3</th>\n",
       "      <td>3</td>\n",
       "      <td>51430906</td>\n",
       "      <td>2007-01-01 00:01:00</td>\n",
       "      <td>303 E WACKER</td>\n",
       "      <td>eee50ca0d9be2debd0e7d45bad05b8674a6cf5b892230f...</td>\n",
       "      <td>IL</td>\n",
       "      <td>PAS</td>\n",
       "      <td>60601</td>\n",
       "      <td>0964110A</td>\n",
       "      <td>DOUBLE PARKING OR STANDING</td>\n",
       "      <td>...</td>\n",
       "      <td>200</td>\n",
       "      <td>0.0</td>\n",
       "      <td>100.0</td>\n",
       "      <td>Paid</td>\n",
       "      <td>2007-03-08 00:00:00</td>\n",
       "      <td>DETR</td>\n",
       "      <td>Liable</td>\n",
       "      <td>5023379950</td>\n",
       "      <td>19410</td>\n",
       "      <td>300 e wacker, chicago, il</td>\n",
       "    </tr>\n",
       "    <tr>\n",
       "      <th>4</th>\n",
       "      <td>4</td>\n",
       "      <td>51507779</td>\n",
       "      <td>2007-01-01 00:01:00</td>\n",
       "      <td>7 E 41ST ST</td>\n",
       "      <td>244116ca3eed4235b1f61f6d753d8c688be2a48c9fdd97...</td>\n",
       "      <td>IL</td>\n",
       "      <td>PAS</td>\n",
       "      <td>605053013</td>\n",
       "      <td>0976220B</td>\n",
       "      <td>SMOKED/TINTED WINDOWS PARKED/STANDING</td>\n",
       "      <td>...</td>\n",
       "      <td>50</td>\n",
       "      <td>0.0</td>\n",
       "      <td>50.0</td>\n",
       "      <td>Paid</td>\n",
       "      <td>2007-08-29 00:00:00</td>\n",
       "      <td>SEIZ</td>\n",
       "      <td>NaN</td>\n",
       "      <td>5079891400</td>\n",
       "      <td>66396</td>\n",
       "      <td>7 e 41st st, chicago, il</td>\n",
       "    </tr>\n",
       "  </tbody>\n",
       "</table>\n",
       "<p>5 rows × 24 columns</p>\n",
       "</div>"
      ],
      "text/plain": [
       "   Unnamed: 0  ticket_number           issue_date violation_location  \\\n",
       "0           0       51551278  2007-01-01 00:00:00     6014 W 64TH ST   \n",
       "1           1       51491256  2007-01-01 00:00:00     530 N MICHIGAN   \n",
       "2           2       50433524  2007-01-01 00:01:00        4001 N LONG   \n",
       "3           3       51430906  2007-01-01 00:01:00       303 E WACKER   \n",
       "4           4       51507779  2007-01-01 00:01:00        7 E 41ST ST   \n",
       "\n",
       "                                license_plate_number license_plate_state  \\\n",
       "0  90ad622c3274c9bdc9d8c812b79a01d0aaf7479f2bd743...                  IL   \n",
       "1  bce4dc26b2c96965380cb2b838cdbb95632b7b57160612...                  IL   \n",
       "2  44641e828f4d894c883c07c566063c2d99d08f2c03b3d4...                  IL   \n",
       "3  eee50ca0d9be2debd0e7d45bad05b8674a6cf5b892230f...                  IL   \n",
       "4  244116ca3eed4235b1f61f6d753d8c688be2a48c9fdd97...                  IL   \n",
       "\n",
       "  license_plate_type    zipcode violation_code  \\\n",
       "0                PAS      60638       0976160F   \n",
       "1                PAS  606343801       0964150B   \n",
       "2                PAS      60148       0976160F   \n",
       "3                PAS      60601       0964110A   \n",
       "4                PAS  605053013       0976220B   \n",
       "\n",
       "                      violation_description  ...  fine_level2_amount  \\\n",
       "0  EXPIRED PLATES OR TEMPORARY REGISTRATION  ...                 100   \n",
       "1       PARKING/STANDING PROHIBITED ANYTIME  ...                 100   \n",
       "2  EXPIRED PLATES OR TEMPORARY REGISTRATION  ...                 100   \n",
       "3                DOUBLE PARKING OR STANDING  ...                 200   \n",
       "4     SMOKED/TINTED WINDOWS PARKED/STANDING  ...                  50   \n",
       "\n",
       "  current_amount_due total_payments  ticket_queue    ticket_queue_date  \\\n",
       "0                0.0          100.0          Paid  2007-05-21 00:00:00   \n",
       "1               50.0            0.0        Define  2007-01-22 00:00:00   \n",
       "2                0.0           50.0          Paid  2007-01-31 00:00:00   \n",
       "3                0.0          100.0          Paid  2007-03-08 00:00:00   \n",
       "4                0.0           50.0          Paid  2007-08-29 00:00:00   \n",
       "\n",
       "   notice_level  hearing_disposition notice_number officer  \\\n",
       "0          SEIZ                  NaN    5048648030   15227   \n",
       "1           NaN                  NaN             0   18320   \n",
       "2          VIOL                  NaN    5079875240    3207   \n",
       "3          DETR               Liable    5023379950   19410   \n",
       "4          SEIZ                  NaN    5079891400   66396   \n",
       "\n",
       "                       address  \n",
       "0  6000 w 64th st, chicago, il  \n",
       "1  500 n michigan, chicago, il  \n",
       "2     4000 n long, chicago, il  \n",
       "3    300 e wacker, chicago, il  \n",
       "4     7 e 41st st, chicago, il  \n",
       "\n",
       "[5 rows x 24 columns]"
      ]
     },
     "execution_count": 115,
     "metadata": {},
     "output_type": "execute_result"
    }
   ],
   "source": [
    "# take a look at what you've got\n",
    "PPTicketData.head(5)"
   ]
  },
  {
   "cell_type": "code",
   "execution_count": 116,
   "metadata": {},
   "outputs": [],
   "source": [
    "#PPTicketData.dtypes"
   ]
  },
  {
   "cell_type": "code",
   "execution_count": 117,
   "metadata": {},
   "outputs": [],
   "source": [
    "PPTicketData['FormatIssueDate'] = pd.to_datetime(PPTicketData.issue_date) # the other columns also need formatting\n",
    "PPTicketData['violation_location'] = PPTicketData['violation_location'].astype('|S') \n",
    "PPTicketData['zipcode'] = PPTicketData['zipcode'].astype('str') "
   ]
  },
  {
   "cell_type": "code",
   "execution_count": 118,
   "metadata": {
    "scrolled": true
   },
   "outputs": [
    {
     "data": {
      "text/plain": [
       "Unnamed: 0                        int64\n",
       "ticket_number                     int64\n",
       "issue_date                       object\n",
       "violation_location               object\n",
       "license_plate_number             object\n",
       "license_plate_state              object\n",
       "license_plate_type               object\n",
       "zipcode                          object\n",
       "violation_code                   object\n",
       "violation_description            object\n",
       "unit                              int64\n",
       "unit_description                 object\n",
       "vehicle_make                     object\n",
       "fine_level1_amount                int64\n",
       "fine_level2_amount                int64\n",
       "current_amount_due              float64\n",
       "total_payments                  float64\n",
       "ticket_queue                     object\n",
       "ticket_queue_date                object\n",
       "notice_level                     object\n",
       "hearing_disposition              object\n",
       "notice_number                     int64\n",
       "officer                          object\n",
       "address                          object\n",
       "FormatIssueDate          datetime64[ns]\n",
       "dtype: object"
      ]
     },
     "execution_count": 118,
     "metadata": {},
     "output_type": "execute_result"
    }
   ],
   "source": [
    "# need to format zipcode\n",
    "PPTicketData.dtypes"
   ]
  },
  {
   "cell_type": "code",
   "execution_count": 119,
   "metadata": {},
   "outputs": [],
   "source": [
    "from uszipcode import SearchEngine, SimpleZipcode, Zipcode\n",
    "search = SearchEngine(simple_zipcode=True) # this is 9MB - it's not a good solution"
   ]
  },
  {
   "cell_type": "code",
   "execution_count": 120,
   "metadata": {},
   "outputs": [
    {
     "data": {
      "text/plain": [
       "dtype('O')"
      ]
     },
     "execution_count": 120,
     "metadata": {},
     "output_type": "execute_result"
    }
   ],
   "source": [
    "PPTicketData.zipcode.dtypes"
   ]
  },
  {
   "cell_type": "code",
   "execution_count": 121,
   "metadata": {},
   "outputs": [
    {
     "data": {
      "text/plain": [
       "0           60638\n",
       "1       606343801\n",
       "2           60148\n",
       "3           60601\n",
       "4       605053013\n",
       "5           60632\n",
       "6           60651\n",
       "7           60643\n",
       "8           60651\n",
       "9           60651\n",
       "10      606532213\n",
       "11      601481629\n",
       "12            nan\n",
       "13      606532213\n",
       "14      618204259\n",
       "15          60148\n",
       "16      601762321\n",
       "17          60639\n",
       "18      606251705\n",
       "19            nan\n",
       "20          60005\n",
       "21      618013705\n",
       "22          60616\n",
       "23      606345108\n",
       "24      608041538\n",
       "25          60076\n",
       "26      606405542\n",
       "27          60640\n",
       "28      605043124\n",
       "29      606385519\n",
       "          ...    \n",
       "1970    604094613\n",
       "1971          nan\n",
       "1972        52245\n",
       "1973        60181\n",
       "1974          nan\n",
       "1975        60629\n",
       "1976        60438\n",
       "1977    606392837\n",
       "1978          nan\n",
       "1979          nan\n",
       "1980        60026\n",
       "1981        60631\n",
       "1982        49093\n",
       "1983        60628\n",
       "1984          nan\n",
       "1985    606287017\n",
       "1986          nan\n",
       "1987    606533611\n",
       "1988    606404214\n",
       "1989    601877832\n",
       "1990        60626\n",
       "1991          nan\n",
       "1992          nan\n",
       "1993        60433\n",
       "1994          nan\n",
       "1995          nan\n",
       "1996        60618\n",
       "1997    606492875\n",
       "1998    606415340\n",
       "1999    606394624\n",
       "Name: zipcode, Length: 2000, dtype: object"
      ]
     },
     "execution_count": 121,
     "metadata": {},
     "output_type": "execute_result"
    }
   ],
   "source": [
    "PPTicketData.zipcode\n",
    "#PPTicketData['FormattedZip'] = PPTicketData.zipcode.str.slice(0,5) # this is where I'm at 8/10 -- how do \n",
    "#df['FormattedZip'] = df['zipcode'].str.replace('/',' ')"
   ]
  },
  {
   "cell_type": "code",
   "execution_count": 122,
   "metadata": {},
   "outputs": [],
   "source": [
    "#PPTicketData['FormattedZip'].astype(str) "
   ]
  },
  {
   "cell_type": "code",
   "execution_count": 123,
   "metadata": {},
   "outputs": [],
   "source": [
    "#PPTicketData.FormattedZip.head(5)"
   ]
  },
  {
   "cell_type": "code",
   "execution_count": 124,
   "metadata": {
    "scrolled": true
   },
   "outputs": [
    {
     "data": {
      "text/plain": [
       "dtype('O')"
      ]
     },
     "execution_count": 124,
     "metadata": {},
     "output_type": "execute_result"
    }
   ],
   "source": [
    "PPTicketData.zipcode.dtypes"
   ]
  },
  {
   "cell_type": "code",
   "execution_count": 125,
   "metadata": {},
   "outputs": [
    {
     "data": {
      "text/plain": [
       "<bound method Series.dropna of 0           60638\n",
       "1       606343801\n",
       "2           60148\n",
       "3           60601\n",
       "4       605053013\n",
       "5           60632\n",
       "6           60651\n",
       "7           60643\n",
       "8           60651\n",
       "9           60651\n",
       "10      606532213\n",
       "11      601481629\n",
       "12            nan\n",
       "13      606532213\n",
       "14      618204259\n",
       "15          60148\n",
       "16      601762321\n",
       "17          60639\n",
       "18      606251705\n",
       "19            nan\n",
       "20          60005\n",
       "21      618013705\n",
       "22          60616\n",
       "23      606345108\n",
       "24      608041538\n",
       "25          60076\n",
       "26      606405542\n",
       "27          60640\n",
       "28      605043124\n",
       "29      606385519\n",
       "          ...    \n",
       "1970    604094613\n",
       "1971          nan\n",
       "1972        52245\n",
       "1973        60181\n",
       "1974          nan\n",
       "1975        60629\n",
       "1976        60438\n",
       "1977    606392837\n",
       "1978          nan\n",
       "1979          nan\n",
       "1980        60026\n",
       "1981        60631\n",
       "1982        49093\n",
       "1983        60628\n",
       "1984          nan\n",
       "1985    606287017\n",
       "1986          nan\n",
       "1987    606533611\n",
       "1988    606404214\n",
       "1989    601877832\n",
       "1990        60626\n",
       "1991          nan\n",
       "1992          nan\n",
       "1993        60433\n",
       "1994          nan\n",
       "1995          nan\n",
       "1996        60618\n",
       "1997    606492875\n",
       "1998    606415340\n",
       "1999    606394624\n",
       "Name: zipcode, Length: 2000, dtype: object>"
      ]
     },
     "execution_count": 125,
     "metadata": {},
     "output_type": "execute_result"
    }
   ],
   "source": [
    "PPTicketData.zipcode.dropna #doesn't work"
   ]
  },
  {
   "cell_type": "code",
   "execution_count": 126,
   "metadata": {},
   "outputs": [],
   "source": [
    "#with ZipcodeSearchEngine() as search: \n",
    "#cityzipcodes = search.by_city(\"Chicago\")\n",
    "# unique city zip codes in ProPublica dataset\n",
    "PPTicketData['FormattedZip'] = PPTicketData.zipcode.str.slice(0,5)\n",
    "uniqueZipCodesCount = PPTicketData.FormattedZip.unique().shape[0] # I don't actually need this -- can use a for loop tha tincreements the elements\n",
    "uniqueZipCodes = PPTicketData.FormattedZip.unique()"
   ]
  },
  {
   "cell_type": "code",
   "execution_count": 127,
   "metadata": {},
   "outputs": [
    {
     "name": "stdout",
     "output_type": "stream",
     "text": [
      "323\n"
     ]
    }
   ],
   "source": [
    "print(uniqueZipCodesCount)"
   ]
  },
  {
   "cell_type": "code",
   "execution_count": 128,
   "metadata": {},
   "outputs": [
    {
     "data": {
      "text/plain": [
       "array(['60638', '60634', '60148', '60601', '60505', '60632', '60651',\n",
       "       '60643', '60653', 'nan', '61820', '60176', '60639', '60625',\n",
       "       '60005', '61801', '60616', '60804', '60076', '60640', '60504',\n",
       "       '60617', '60652', '60649', '60644', '60618', '62411', '60629',\n",
       "       '89149', '60453', '60115', '60101', '60628', '60165', '60623',\n",
       "       '60131', '60622', '60637', '60120', '60008', '60624', '60402',\n",
       "       '60613', '60609', '60193', '60626', '55343', '60630', '60031',\n",
       "       '60657', '60611', '60440', '60044', '61107', '60610', '60104',\n",
       "       '60103', '60047', '60181', '60659', '78245', '60160', '60608',\n",
       "       '60645', '60064', '60016', '60419', '49464', '60426', '60563',\n",
       "       '60666', '60527', '60153', '62704', '60641', '60646', '60403',\n",
       "       '60471', '60712', '60139', '60647', '60614', '48306', '60068',\n",
       "       '60062', '60133', '60612', '60707', '60202', '60171', '60194',\n",
       "       '60164', '60018', '60409', '60620', '60172', '97140', '76087',\n",
       "       '60636', '50613', '60411', '65559', '60026', '60621', '60660',\n",
       "       '53185', '60302', '53901', '49008', '68123', '61821', '60514',\n",
       "       '53207', '60615', '77562', '60035', '53208', '60188', '60056',\n",
       "       '60060', '61701', '60452', '60053', '44145', '44654', '62522',\n",
       "       '60446', '43017', '60106', '48336', '60901', '46368', '60090',\n",
       "       '61756', '60561', '60435', '49307', '60163', '60110', '61866',\n",
       "       '60605', 'IL', '60449', '60070', '60174', '62711', '60173',\n",
       "       '60714', '60607', '37203', '61914', '60490', '60191', '60467',\n",
       "       '60546', '60532', '36691', '60123', '60201', '48128', '60048',\n",
       "       '40515', '55344', '60656', '02144', '46322', '60619', '36832',\n",
       "       '60002', '60012', '60631', '60406', '60559', '60083', '60463',\n",
       "       '70403', '46324', '60472', '60107', '53227', '60517', '49255',\n",
       "       '60491', '60515', '54313', '46614', '60560', '61273', '62471',\n",
       "       '60506', '97080', '46208', '75088', '60408', '46307', '61080',\n",
       "       '61114', '47302', '48374', '60137', '60540', '60436', '60510',\n",
       "       '44060', '97868', '60067', '60534', '95899', '62025', '65721',\n",
       "       '61615', '46304', '60803', '60482', '61704', '60061', '61840',\n",
       "       '61081', '46320', '48237', '60462', '60004', '60478', '61104',\n",
       "       '60428', '48446', '60448', '60516', '60466', '60041', '60451',\n",
       "       '60099', '30067', '60134', '60077', '49083', '60459', '53220',\n",
       "       '56058', '48638', '98407', '61462', '60304', '60073', '60084',\n",
       "       '60542', '62024', '60089', '60085', '60156', '46544', '60074',\n",
       "       '43068', '58201', '60161', '47909', '60680', '60185', '60604',\n",
       "       '60045', '60586', '53140', '61761', '60827', '60119', '60175',\n",
       "       '52804', '53402', '60473', '46407', '53934', '62703', '60455',\n",
       "       '60706', '61817', '10536', '61350', '60438', '60805', '60093',\n",
       "       '60143', '60187', '54944', '60431', '60007', '60149', '60010',\n",
       "       '61244', '60415', '60443', '60425', '60502', '53715', '60423',\n",
       "       '60477', '60487', '60525', '04102', '60404', '53218', '60603',\n",
       "       '53910', '60914', '60102', '60523', '17402', '60513', '60457',\n",
       "       '60015', '48359', '60465', '44102', '60522', '53215', '46321',\n",
       "       '07114', '60430', '72127', '61920', '50314', '52245', '49093',\n",
       "       '60433'], dtype=object)"
      ]
     },
     "execution_count": 128,
     "metadata": {},
     "output_type": "execute_result"
    }
   ],
   "source": [
    "uniqueZipCodes"
   ]
  },
  {
   "cell_type": "code",
   "execution_count": 129,
   "metadata": {},
   "outputs": [
    {
     "data": {
      "text/plain": [
       "'nan'"
      ]
     },
     "execution_count": 129,
     "metadata": {},
     "output_type": "execute_result"
    }
   ],
   "source": [
    "uniqueZipCodes[9]"
   ]
  },
  {
   "cell_type": "code",
   "execution_count": 130,
   "metadata": {},
   "outputs": [
    {
     "data": {
      "text/plain": [
       "'60638'"
      ]
     },
     "execution_count": 130,
     "metadata": {},
     "output_type": "execute_result"
    }
   ],
   "source": [
    "uniqueZipCodes[0]"
   ]
  },
  {
   "cell_type": "code",
   "execution_count": 131,
   "metadata": {},
   "outputs": [],
   "source": [
    "#for i in range(1, uniqueZipCodesCount+1)\n",
    "#    print(search.by_zipcode(uniqueZipCodes[i]))"
   ]
  },
  {
   "cell_type": "code",
   "execution_count": 132,
   "metadata": {},
   "outputs": [],
   "source": [
    "zipcodes2 = search.by_zipcode(format(str(uniqueZipCodes[142])))"
   ]
  },
  {
   "cell_type": "code",
   "execution_count": 133,
   "metadata": {},
   "outputs": [],
   "source": [
    "zipcodes2 = search.by_zipcode(uniqueZipCodes[71])"
   ]
  },
  {
   "cell_type": "code",
   "execution_count": 134,
   "metadata": {
    "scrolled": true
   },
   "outputs": [
    {
     "name": "stdout",
     "output_type": "stream",
     "text": [
      "SimpleZipcode(zipcode='60527', zipcode_type='Standard', major_city='Willowbrook', post_office_city='Willowbrook, IL', common_city_list=['Willowbrook', 'Burr Ridge'], county='DuPage County', state='IL', lat=41.74, lng=-87.95, timezone='Central', radius_in_miles=5.0, area_code_list=['630', '708'], population=27486, population_density=1898.0, land_area_in_sqmi=14.48, water_area_in_sqmi=0.36, housing_units=12151, occupied_housing_units=11219, median_home_value=395000, median_household_income=72950, bounds_west=-87.973042, bounds_east=-87.895256, bounds_north=41.789615, bounds_south=41.701035)\n"
     ]
    }
   ],
   "source": [
    "print(zipcodes2)"
   ]
  },
  {
   "cell_type": "code",
   "execution_count": 135,
   "metadata": {},
   "outputs": [
    {
     "data": {
      "text/plain": [
       "True"
      ]
     },
     "execution_count": 135,
     "metadata": {},
     "output_type": "execute_result"
    }
   ],
   "source": [
    "zipcodes2.zipcode_type != None"
   ]
  },
  {
   "cell_type": "code",
   "execution_count": 136,
   "metadata": {},
   "outputs": [
    {
     "data": {
      "text/plain": [
       "False"
      ]
     },
     "execution_count": 136,
     "metadata": {},
     "output_type": "execute_result"
    }
   ],
   "source": [
    "zipcodes2.lat == None"
   ]
  },
  {
   "cell_type": "code",
   "execution_count": 137,
   "metadata": {},
   "outputs": [
    {
     "data": {
      "text/plain": [
       "-87.95"
      ]
     },
     "execution_count": 137,
     "metadata": {},
     "output_type": "execute_result"
    }
   ],
   "source": [
    "zipcodes2.lng"
   ]
  },
  {
   "cell_type": "code",
   "execution_count": 138,
   "metadata": {},
   "outputs": [
    {
     "data": {
      "text/plain": [
       "'Burr Ridge'"
      ]
     },
     "execution_count": 138,
     "metadata": {},
     "output_type": "execute_result"
    }
   ],
   "source": [
    "zipcodes2.common_city_list[1]"
   ]
  },
  {
   "cell_type": "code",
   "execution_count": 139,
   "metadata": {},
   "outputs": [],
   "source": [
    "#df = pd.read_csv('data/Zip_Codes.csv', sep=',') # do i even need this???\n",
    "#df.head()"
   ]
  },
  {
   "cell_type": "code",
   "execution_count": 140,
   "metadata": {
    "scrolled": true
   },
   "outputs": [
    {
     "data": {
      "text/html": [
       "<div style=\"width:100%;\"><div style=\"position:relative;width:100%;height:0;padding-bottom:60%;\"><iframe src=\"data:text/html;charset=utf-8;base64,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\" style=\"position:absolute;width:100%;height:100%;left:0;top:0;border:none !important;\" allowfullscreen webkitallowfullscreen mozallowfullscreen></iframe></div></div>"
      ],
      "text/plain": [
       "<folium.folium.Map at 0x1a22791a20>"
      ]
     },
     "execution_count": 140,
     "metadata": {},
     "output_type": "execute_result"
    }
   ],
   "source": [
    "# test case\n",
    "zipcodes2 = search.by_zipcode(uniqueZipCodes[0])\n",
    "m = folium.Map([zipcodes2.lat, zipcodes2.lng], marker=zipcodes2.common_city_list[-1], zoom_start=15) # picked at random one location in Chicago\n",
    "folium.Marker([zipcodes2.lat, zipcodes2.lng], popup=zipcodes2.common_city_list[-1]).add_to(m)\n",
    "m\n"
   ]
  },
  {
   "cell_type": "code",
   "execution_count": 141,
   "metadata": {},
   "outputs": [
    {
     "data": {
      "text/plain": [
       "['Chicago', 'Bedford Park']"
      ]
     },
     "execution_count": 141,
     "metadata": {},
     "output_type": "execute_result"
    }
   ],
   "source": [
    "zipcodes2.common_city_list"
   ]
  },
  {
   "cell_type": "code",
   "execution_count": 142,
   "metadata": {
    "scrolled": true
   },
   "outputs": [
    {
     "data": {
      "text/html": [
       "<div style=\"width:100%;\"><div style=\"position:relative;width:100%;height:0;padding-bottom:60%;\"><iframe src=\"data:text/html;charset=utf-8;base64,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\" style=\"position:absolute;width:100%;height:100%;left:0;top:0;border:none !important;\" allowfullscreen webkitallowfullscreen mozallowfullscreen></iframe></div></div>"
      ],
      "text/plain": [
       "<folium.folium.Map at 0x1a2280c208>"
      ]
     },
     "execution_count": 142,
     "metadata": {},
     "output_type": "execute_result"
    }
   ],
   "source": [
    "m2 = folium.Map([zipcodes2.lat, zipcodes2.lng], marker=zipcodes2.common_city_list[-1], zoom_start=12) # picked at random one location in Chicago\n",
    "\n",
    "for i in range(0, uniqueZipCodesCount):\n",
    "    #print(uniqueZipCodes[i])\n",
    "    zipcodes2 = search.by_zipcode(uniqueZipCodes[i])\n",
    "    if (zipcodes2.lat != None): # check for bad data\n",
    "        folium.Marker([zipcodes2.lat, zipcodes2.lng], popup=zipcodes2.common_city_list[-1], marker=zipcodes2.common_city_list[-1]).add_to(m2)\n",
    "m2    "
   ]
  },
  {
   "cell_type": "code",
   "execution_count": 143,
   "metadata": {},
   "outputs": [
    {
     "name": "stderr",
     "output_type": "stream",
     "text": [
      "/Users/troust/anaconda3/lib/python3.7/site-packages/ipykernel_launcher.py:13: SettingWithCopyWarning: \n",
      "A value is trying to be set on a copy of a slice from a DataFrame\n",
      "\n",
      "See the caveats in the documentation: http://pandas.pydata.org/pandas-docs/stable/indexing.html#indexing-view-versus-copy\n",
      "  del sys.path[0]\n",
      "/Users/troust/anaconda3/lib/python3.7/site-packages/ipykernel_launcher.py:14: SettingWithCopyWarning: \n",
      "A value is trying to be set on a copy of a slice from a DataFrame\n",
      "\n",
      "See the caveats in the documentation: http://pandas.pydata.org/pandas-docs/stable/indexing.html#indexing-view-versus-copy\n",
      "  \n",
      "/Users/troust/anaconda3/lib/python3.7/site-packages/ipykernel_launcher.py:15: SettingWithCopyWarning: \n",
      "A value is trying to be set on a copy of a slice from a DataFrame\n",
      "\n",
      "See the caveats in the documentation: http://pandas.pydata.org/pandas-docs/stable/indexing.html#indexing-view-versus-copy\n",
      "  from ipykernel import kernelapp as app\n"
     ]
    }
   ],
   "source": [
    "# 3) run a heatmap showing the traffic ticket \"hot spots\" by owners registration zip code\n",
    "# subtask 1: find the count for all traffic tickets registered in a sample zip code -- if you have \n",
    "# zipcode, you only need to call it once to find the lat and long and save it.  \n",
    "\n",
    "# create an empty dataframe to hold the zipcode, lat and long\n",
    "LatLongDF = pd.DataFrame({'zipcode':[], 'Latitude':[], 'Longitude':[]})\n",
    "LatLongDF['zipcode'] = uniqueZipCodes # now add the uniqueZipCodes data to fill it in\n",
    "\n",
    "for i in range(0, uniqueZipCodesCount):\n",
    "    #print(i)\n",
    "    zipcodes2 = search.by_zipcode(uniqueZipCodes[i])\n",
    "    if (zipcodes2.lat != None): # check for bad data\n",
    "        LatLongDF['zipcode'][i] = uniqueZipCodes[i]\n",
    "        LatLongDF['Latitude'][i] = zipcodes2.lat\n",
    "        LatLongDF['Longitude'][i] = zipcodes2.lng\n",
    "\n"
   ]
  },
  {
   "cell_type": "code",
   "execution_count": 144,
   "metadata": {
    "scrolled": true
   },
   "outputs": [
    {
     "data": {
      "text/html": [
       "<div>\n",
       "<style scoped>\n",
       "    .dataframe tbody tr th:only-of-type {\n",
       "        vertical-align: middle;\n",
       "    }\n",
       "\n",
       "    .dataframe tbody tr th {\n",
       "        vertical-align: top;\n",
       "    }\n",
       "\n",
       "    .dataframe thead th {\n",
       "        text-align: right;\n",
       "    }\n",
       "</style>\n",
       "<table border=\"1\" class=\"dataframe\">\n",
       "  <thead>\n",
       "    <tr style=\"text-align: right;\">\n",
       "      <th></th>\n",
       "      <th>zipcode</th>\n",
       "      <th>Latitude</th>\n",
       "      <th>Longitude</th>\n",
       "    </tr>\n",
       "  </thead>\n",
       "  <tbody>\n",
       "    <tr>\n",
       "      <th>0</th>\n",
       "      <td>60638</td>\n",
       "      <td>41.78</td>\n",
       "      <td>-87.770</td>\n",
       "    </tr>\n",
       "    <tr>\n",
       "      <th>1</th>\n",
       "      <td>60634</td>\n",
       "      <td>41.95</td>\n",
       "      <td>-87.810</td>\n",
       "    </tr>\n",
       "    <tr>\n",
       "      <th>2</th>\n",
       "      <td>60148</td>\n",
       "      <td>41.88</td>\n",
       "      <td>-88.020</td>\n",
       "    </tr>\n",
       "    <tr>\n",
       "      <th>3</th>\n",
       "      <td>60601</td>\n",
       "      <td>41.88</td>\n",
       "      <td>-87.620</td>\n",
       "    </tr>\n",
       "    <tr>\n",
       "      <th>4</th>\n",
       "      <td>60505</td>\n",
       "      <td>41.76</td>\n",
       "      <td>-88.300</td>\n",
       "    </tr>\n",
       "    <tr>\n",
       "      <th>5</th>\n",
       "      <td>60632</td>\n",
       "      <td>41.82</td>\n",
       "      <td>-87.690</td>\n",
       "    </tr>\n",
       "    <tr>\n",
       "      <th>6</th>\n",
       "      <td>60651</td>\n",
       "      <td>41.90</td>\n",
       "      <td>-87.740</td>\n",
       "    </tr>\n",
       "    <tr>\n",
       "      <th>7</th>\n",
       "      <td>60643</td>\n",
       "      <td>41.70</td>\n",
       "      <td>-87.660</td>\n",
       "    </tr>\n",
       "    <tr>\n",
       "      <th>8</th>\n",
       "      <td>60653</td>\n",
       "      <td>41.82</td>\n",
       "      <td>-87.610</td>\n",
       "    </tr>\n",
       "    <tr>\n",
       "      <th>9</th>\n",
       "      <td>nan</td>\n",
       "      <td>NaN</td>\n",
       "      <td>NaN</td>\n",
       "    </tr>\n",
       "    <tr>\n",
       "      <th>10</th>\n",
       "      <td>61820</td>\n",
       "      <td>40.11</td>\n",
       "      <td>-88.240</td>\n",
       "    </tr>\n",
       "    <tr>\n",
       "      <th>11</th>\n",
       "      <td>60176</td>\n",
       "      <td>41.96</td>\n",
       "      <td>-87.870</td>\n",
       "    </tr>\n",
       "    <tr>\n",
       "      <th>12</th>\n",
       "      <td>60639</td>\n",
       "      <td>41.92</td>\n",
       "      <td>-87.760</td>\n",
       "    </tr>\n",
       "    <tr>\n",
       "      <th>13</th>\n",
       "      <td>60625</td>\n",
       "      <td>41.97</td>\n",
       "      <td>-87.700</td>\n",
       "    </tr>\n",
       "    <tr>\n",
       "      <th>14</th>\n",
       "      <td>60005</td>\n",
       "      <td>42.06</td>\n",
       "      <td>-87.980</td>\n",
       "    </tr>\n",
       "    <tr>\n",
       "      <th>15</th>\n",
       "      <td>61801</td>\n",
       "      <td>40.11</td>\n",
       "      <td>-88.210</td>\n",
       "    </tr>\n",
       "    <tr>\n",
       "      <th>16</th>\n",
       "      <td>60616</td>\n",
       "      <td>41.84</td>\n",
       "      <td>-87.620</td>\n",
       "    </tr>\n",
       "    <tr>\n",
       "      <th>17</th>\n",
       "      <td>60804</td>\n",
       "      <td>41.84</td>\n",
       "      <td>-87.760</td>\n",
       "    </tr>\n",
       "    <tr>\n",
       "      <th>18</th>\n",
       "      <td>60076</td>\n",
       "      <td>42.03</td>\n",
       "      <td>-87.740</td>\n",
       "    </tr>\n",
       "    <tr>\n",
       "      <th>19</th>\n",
       "      <td>60640</td>\n",
       "      <td>41.97</td>\n",
       "      <td>-87.660</td>\n",
       "    </tr>\n",
       "    <tr>\n",
       "      <th>20</th>\n",
       "      <td>60504</td>\n",
       "      <td>41.75</td>\n",
       "      <td>-88.250</td>\n",
       "    </tr>\n",
       "    <tr>\n",
       "      <th>21</th>\n",
       "      <td>60617</td>\n",
       "      <td>41.73</td>\n",
       "      <td>-87.550</td>\n",
       "    </tr>\n",
       "    <tr>\n",
       "      <th>22</th>\n",
       "      <td>60652</td>\n",
       "      <td>41.75</td>\n",
       "      <td>-87.710</td>\n",
       "    </tr>\n",
       "    <tr>\n",
       "      <th>23</th>\n",
       "      <td>60649</td>\n",
       "      <td>41.77</td>\n",
       "      <td>-87.560</td>\n",
       "    </tr>\n",
       "    <tr>\n",
       "      <th>24</th>\n",
       "      <td>60644</td>\n",
       "      <td>41.88</td>\n",
       "      <td>-87.760</td>\n",
       "    </tr>\n",
       "    <tr>\n",
       "      <th>25</th>\n",
       "      <td>60618</td>\n",
       "      <td>41.95</td>\n",
       "      <td>-87.700</td>\n",
       "    </tr>\n",
       "    <tr>\n",
       "      <th>26</th>\n",
       "      <td>62411</td>\n",
       "      <td>39.10</td>\n",
       "      <td>-88.700</td>\n",
       "    </tr>\n",
       "    <tr>\n",
       "      <th>27</th>\n",
       "      <td>60629</td>\n",
       "      <td>41.78</td>\n",
       "      <td>-87.700</td>\n",
       "    </tr>\n",
       "    <tr>\n",
       "      <th>28</th>\n",
       "      <td>89149</td>\n",
       "      <td>36.28</td>\n",
       "      <td>-115.290</td>\n",
       "    </tr>\n",
       "    <tr>\n",
       "      <th>29</th>\n",
       "      <td>60453</td>\n",
       "      <td>41.71</td>\n",
       "      <td>-87.760</td>\n",
       "    </tr>\n",
       "    <tr>\n",
       "      <th>...</th>\n",
       "      <td>...</td>\n",
       "      <td>...</td>\n",
       "      <td>...</td>\n",
       "    </tr>\n",
       "    <tr>\n",
       "      <th>293</th>\n",
       "      <td>60423</td>\n",
       "      <td>41.48</td>\n",
       "      <td>-87.840</td>\n",
       "    </tr>\n",
       "    <tr>\n",
       "      <th>294</th>\n",
       "      <td>60477</td>\n",
       "      <td>41.57</td>\n",
       "      <td>-87.780</td>\n",
       "    </tr>\n",
       "    <tr>\n",
       "      <th>295</th>\n",
       "      <td>60487</td>\n",
       "      <td>41.57</td>\n",
       "      <td>-87.830</td>\n",
       "    </tr>\n",
       "    <tr>\n",
       "      <th>296</th>\n",
       "      <td>60525</td>\n",
       "      <td>41.78</td>\n",
       "      <td>-87.850</td>\n",
       "    </tr>\n",
       "    <tr>\n",
       "      <th>297</th>\n",
       "      <td>04102</td>\n",
       "      <td>43.66</td>\n",
       "      <td>-70.300</td>\n",
       "    </tr>\n",
       "    <tr>\n",
       "      <th>298</th>\n",
       "      <td>60404</td>\n",
       "      <td>41.51</td>\n",
       "      <td>-88.220</td>\n",
       "    </tr>\n",
       "    <tr>\n",
       "      <th>299</th>\n",
       "      <td>53218</td>\n",
       "      <td>43.12</td>\n",
       "      <td>-88.000</td>\n",
       "    </tr>\n",
       "    <tr>\n",
       "      <th>300</th>\n",
       "      <td>60603</td>\n",
       "      <td>41.88</td>\n",
       "      <td>-87.629</td>\n",
       "    </tr>\n",
       "    <tr>\n",
       "      <th>301</th>\n",
       "      <td>53910</td>\n",
       "      <td>43.90</td>\n",
       "      <td>-89.800</td>\n",
       "    </tr>\n",
       "    <tr>\n",
       "      <th>302</th>\n",
       "      <td>60914</td>\n",
       "      <td>41.20</td>\n",
       "      <td>-87.900</td>\n",
       "    </tr>\n",
       "    <tr>\n",
       "      <th>303</th>\n",
       "      <td>60102</td>\n",
       "      <td>42.16</td>\n",
       "      <td>-88.310</td>\n",
       "    </tr>\n",
       "    <tr>\n",
       "      <th>304</th>\n",
       "      <td>60523</td>\n",
       "      <td>41.84</td>\n",
       "      <td>-87.950</td>\n",
       "    </tr>\n",
       "    <tr>\n",
       "      <th>305</th>\n",
       "      <td>17402</td>\n",
       "      <td>39.95</td>\n",
       "      <td>-76.670</td>\n",
       "    </tr>\n",
       "    <tr>\n",
       "      <th>306</th>\n",
       "      <td>60513</td>\n",
       "      <td>41.83</td>\n",
       "      <td>-87.850</td>\n",
       "    </tr>\n",
       "    <tr>\n",
       "      <th>307</th>\n",
       "      <td>60457</td>\n",
       "      <td>41.72</td>\n",
       "      <td>-87.830</td>\n",
       "    </tr>\n",
       "    <tr>\n",
       "      <th>308</th>\n",
       "      <td>60015</td>\n",
       "      <td>42.17</td>\n",
       "      <td>-87.880</td>\n",
       "    </tr>\n",
       "    <tr>\n",
       "      <th>309</th>\n",
       "      <td>48359</td>\n",
       "      <td>42.72</td>\n",
       "      <td>-83.280</td>\n",
       "    </tr>\n",
       "    <tr>\n",
       "      <th>310</th>\n",
       "      <td>60465</td>\n",
       "      <td>41.70</td>\n",
       "      <td>-87.830</td>\n",
       "    </tr>\n",
       "    <tr>\n",
       "      <th>311</th>\n",
       "      <td>44102</td>\n",
       "      <td>41.47</td>\n",
       "      <td>-81.740</td>\n",
       "    </tr>\n",
       "    <tr>\n",
       "      <th>312</th>\n",
       "      <td>60522</td>\n",
       "      <td>NaN</td>\n",
       "      <td>NaN</td>\n",
       "    </tr>\n",
       "    <tr>\n",
       "      <th>313</th>\n",
       "      <td>53215</td>\n",
       "      <td>43.01</td>\n",
       "      <td>-87.940</td>\n",
       "    </tr>\n",
       "    <tr>\n",
       "      <th>314</th>\n",
       "      <td>46321</td>\n",
       "      <td>41.55</td>\n",
       "      <td>-87.500</td>\n",
       "    </tr>\n",
       "    <tr>\n",
       "      <th>315</th>\n",
       "      <td>07114</td>\n",
       "      <td>40.70</td>\n",
       "      <td>-74.170</td>\n",
       "    </tr>\n",
       "    <tr>\n",
       "      <th>316</th>\n",
       "      <td>60430</td>\n",
       "      <td>41.56</td>\n",
       "      <td>-87.660</td>\n",
       "    </tr>\n",
       "    <tr>\n",
       "      <th>317</th>\n",
       "      <td>72127</td>\n",
       "      <td>35.20</td>\n",
       "      <td>-92.600</td>\n",
       "    </tr>\n",
       "    <tr>\n",
       "      <th>318</th>\n",
       "      <td>61920</td>\n",
       "      <td>39.50</td>\n",
       "      <td>-88.200</td>\n",
       "    </tr>\n",
       "    <tr>\n",
       "      <th>319</th>\n",
       "      <td>50314</td>\n",
       "      <td>41.60</td>\n",
       "      <td>-93.630</td>\n",
       "    </tr>\n",
       "    <tr>\n",
       "      <th>320</th>\n",
       "      <td>52245</td>\n",
       "      <td>41.67</td>\n",
       "      <td>-91.510</td>\n",
       "    </tr>\n",
       "    <tr>\n",
       "      <th>321</th>\n",
       "      <td>49093</td>\n",
       "      <td>42.00</td>\n",
       "      <td>-85.700</td>\n",
       "    </tr>\n",
       "    <tr>\n",
       "      <th>322</th>\n",
       "      <td>60433</td>\n",
       "      <td>41.50</td>\n",
       "      <td>-88.040</td>\n",
       "    </tr>\n",
       "  </tbody>\n",
       "</table>\n",
       "<p>323 rows × 3 columns</p>\n",
       "</div>"
      ],
      "text/plain": [
       "    zipcode  Latitude  Longitude\n",
       "0     60638     41.78    -87.770\n",
       "1     60634     41.95    -87.810\n",
       "2     60148     41.88    -88.020\n",
       "3     60601     41.88    -87.620\n",
       "4     60505     41.76    -88.300\n",
       "5     60632     41.82    -87.690\n",
       "6     60651     41.90    -87.740\n",
       "7     60643     41.70    -87.660\n",
       "8     60653     41.82    -87.610\n",
       "9       nan       NaN        NaN\n",
       "10    61820     40.11    -88.240\n",
       "11    60176     41.96    -87.870\n",
       "12    60639     41.92    -87.760\n",
       "13    60625     41.97    -87.700\n",
       "14    60005     42.06    -87.980\n",
       "15    61801     40.11    -88.210\n",
       "16    60616     41.84    -87.620\n",
       "17    60804     41.84    -87.760\n",
       "18    60076     42.03    -87.740\n",
       "19    60640     41.97    -87.660\n",
       "20    60504     41.75    -88.250\n",
       "21    60617     41.73    -87.550\n",
       "22    60652     41.75    -87.710\n",
       "23    60649     41.77    -87.560\n",
       "24    60644     41.88    -87.760\n",
       "25    60618     41.95    -87.700\n",
       "26    62411     39.10    -88.700\n",
       "27    60629     41.78    -87.700\n",
       "28    89149     36.28   -115.290\n",
       "29    60453     41.71    -87.760\n",
       "..      ...       ...        ...\n",
       "293   60423     41.48    -87.840\n",
       "294   60477     41.57    -87.780\n",
       "295   60487     41.57    -87.830\n",
       "296   60525     41.78    -87.850\n",
       "297   04102     43.66    -70.300\n",
       "298   60404     41.51    -88.220\n",
       "299   53218     43.12    -88.000\n",
       "300   60603     41.88    -87.629\n",
       "301   53910     43.90    -89.800\n",
       "302   60914     41.20    -87.900\n",
       "303   60102     42.16    -88.310\n",
       "304   60523     41.84    -87.950\n",
       "305   17402     39.95    -76.670\n",
       "306   60513     41.83    -87.850\n",
       "307   60457     41.72    -87.830\n",
       "308   60015     42.17    -87.880\n",
       "309   48359     42.72    -83.280\n",
       "310   60465     41.70    -87.830\n",
       "311   44102     41.47    -81.740\n",
       "312   60522       NaN        NaN\n",
       "313   53215     43.01    -87.940\n",
       "314   46321     41.55    -87.500\n",
       "315   07114     40.70    -74.170\n",
       "316   60430     41.56    -87.660\n",
       "317   72127     35.20    -92.600\n",
       "318   61920     39.50    -88.200\n",
       "319   50314     41.60    -93.630\n",
       "320   52245     41.67    -91.510\n",
       "321   49093     42.00    -85.700\n",
       "322   60433     41.50    -88.040\n",
       "\n",
       "[323 rows x 3 columns]"
      ]
     },
     "execution_count": 144,
     "metadata": {},
     "output_type": "execute_result"
    }
   ],
   "source": [
    "LatLongDF"
   ]
  },
  {
   "cell_type": "code",
   "execution_count": 145,
   "metadata": {
    "scrolled": false
   },
   "outputs": [],
   "source": [
    "# subtask 1: find the count for all traffic tickets registered in a sample zip code -- if you have \n",
    "# zipcode, you only need to call it once to find the lat and long and save it.  \n",
    "NewPPTicketData = PPTicketData.groupby(['FormattedZip']).size().reset_index(name='counts')"
   ]
  },
  {
   "cell_type": "code",
   "execution_count": 146,
   "metadata": {},
   "outputs": [
    {
     "data": {
      "text/plain": [
       "FormattedZip    object\n",
       "counts           int64\n",
       "dtype: object"
      ]
     },
     "execution_count": 146,
     "metadata": {},
     "output_type": "execute_result"
    }
   ],
   "source": [
    "NewPPTicketData.dtypes"
   ]
  },
  {
   "cell_type": "code",
   "execution_count": 147,
   "metadata": {},
   "outputs": [
    {
     "data": {
      "text/plain": [
       "zipcode       object\n",
       "Latitude     float64\n",
       "Longitude    float64\n",
       "dtype: object"
      ]
     },
     "execution_count": 147,
     "metadata": {},
     "output_type": "execute_result"
    }
   ],
   "source": [
    "LatLongDF.dtypes"
   ]
  },
  {
   "cell_type": "code",
   "execution_count": 148,
   "metadata": {},
   "outputs": [],
   "source": [
    "LatLongDF.rename(columns = {'zipcode':'FormattedZip'}, inplace = True)"
   ]
  },
  {
   "cell_type": "code",
   "execution_count": 149,
   "metadata": {},
   "outputs": [
    {
     "data": {
      "text/plain": [
       "(323, 3)"
      ]
     },
     "execution_count": 149,
     "metadata": {},
     "output_type": "execute_result"
    }
   ],
   "source": [
    "LatLongDF.shape"
   ]
  },
  {
   "cell_type": "code",
   "execution_count": 150,
   "metadata": {},
   "outputs": [
    {
     "data": {
      "text/plain": [
       "(323, 2)"
      ]
     },
     "execution_count": 150,
     "metadata": {},
     "output_type": "execute_result"
    }
   ],
   "source": [
    "NewPPTicketData.shape"
   ]
  },
  {
   "cell_type": "code",
   "execution_count": 151,
   "metadata": {},
   "outputs": [
    {
     "data": {
      "text/plain": [
       "FormattedZip    object\n",
       "counts           int64\n",
       "dtype: object"
      ]
     },
     "execution_count": 151,
     "metadata": {},
     "output_type": "execute_result"
    }
   ],
   "source": [
    "NewPPTicketData.dtypes"
   ]
  },
  {
   "cell_type": "code",
   "execution_count": 162,
   "metadata": {},
   "outputs": [
    {
     "data": {
      "text/plain": [
       "FormattedZip     object\n",
       "Latitude        float64\n",
       "Longitude       float64\n",
       "dtype: object"
      ]
     },
     "execution_count": 162,
     "metadata": {},
     "output_type": "execute_result"
    }
   ],
   "source": [
    "LatLongDF.dtypes"
   ]
  },
  {
   "cell_type": "code",
   "execution_count": 163,
   "metadata": {},
   "outputs": [
    {
     "name": "stdout",
     "output_type": "stream",
     "text": [
      "    FormattedZip  Latitude  Longitude  counts\n",
      "0          60638     41.78    -87.770      16\n",
      "1          60634     41.95    -87.810      12\n",
      "2          60148     41.88    -88.020      14\n",
      "3          60601     41.88    -87.620       1\n",
      "4          60505     41.76    -88.300       5\n",
      "5          60632     41.82    -87.690      30\n",
      "6          60651     41.90    -87.740      31\n",
      "7          60643     41.70    -87.660      16\n",
      "8          60653     41.82    -87.610      19\n",
      "9            nan       NaN        NaN     350\n",
      "10         61820     40.11    -88.240       2\n",
      "11         60176     41.96    -87.870       6\n",
      "12         60639     41.92    -87.760      43\n",
      "13         60625     41.97    -87.700      60\n",
      "14         60005     42.06    -87.980       2\n",
      "15         61801     40.11    -88.210       1\n",
      "16         60616     41.84    -87.620      21\n",
      "17         60804     41.84    -87.760      15\n",
      "18         60076     42.03    -87.740       5\n",
      "19         60640     41.97    -87.660      45\n",
      "20         60504     41.75    -88.250       4\n",
      "21         60617     41.73    -87.550      36\n",
      "22         60652     41.75    -87.710      12\n",
      "23         60649     41.77    -87.560      20\n",
      "24         60644     41.88    -87.760      26\n",
      "25         60618     41.95    -87.700      85\n",
      "26         62411     39.10    -88.700       1\n",
      "27         60629     41.78    -87.700      50\n",
      "28         89149     36.28   -115.290       1\n",
      "29         60453     41.71    -87.760       4\n",
      "..           ...       ...        ...     ...\n",
      "293        60423     41.48    -87.840       1\n",
      "294        60477     41.57    -87.780       2\n",
      "295        60487     41.57    -87.830       1\n",
      "296        60525     41.78    -87.850       1\n",
      "297        04102     43.66    -70.300       1\n",
      "298        60404     41.51    -88.220       1\n",
      "299        53218     43.12    -88.000       1\n",
      "300        60603     41.88    -87.629       1\n",
      "301        53910     43.90    -89.800       1\n",
      "302        60914     41.20    -87.900       1\n",
      "303        60102     42.16    -88.310       1\n",
      "304        60523     41.84    -87.950       2\n",
      "305        17402     39.95    -76.670       1\n",
      "306        60513     41.83    -87.850       1\n",
      "307        60457     41.72    -87.830       1\n",
      "308        60015     42.17    -87.880       1\n",
      "309        48359     42.72    -83.280       1\n",
      "310        60465     41.70    -87.830       1\n",
      "311        44102     41.47    -81.740       1\n",
      "312        60522       NaN        NaN       1\n",
      "313        53215     43.01    -87.940       1\n",
      "314        46321     41.55    -87.500       1\n",
      "315        07114     40.70    -74.170       1\n",
      "316        60430     41.56    -87.660       1\n",
      "317        72127     35.20    -92.600       1\n",
      "318        61920     39.50    -88.200       1\n",
      "319        50314     41.60    -93.630       1\n",
      "320        52245     41.67    -91.510       1\n",
      "321        49093     42.00    -85.700       1\n",
      "322        60433     41.50    -88.040       1\n",
      "\n",
      "[323 rows x 4 columns]\n"
     ]
    }
   ],
   "source": [
    "# join count to the LatLongDF - now you have a dataframe with the zipcode, lat, long and counts\n",
    "\n",
    "result = pd.merge(LatLongDF, NewPPTicketData[['FormattedZip', 'counts']], on=['FormattedZip'])\n",
    "print(result)\n"
   ]
  },
  {
   "cell_type": "code",
   "execution_count": 180,
   "metadata": {},
   "outputs": [
    {
     "data": {
      "text/plain": [
       "True"
      ]
     },
     "execution_count": 180,
     "metadata": {},
     "output_type": "execute_result"
    }
   ],
   "source": [
    "not np.isnan(result.Latitude[1]) # test case"
   ]
  },
  {
   "cell_type": "code",
   "execution_count": 230,
   "metadata": {},
   "outputs": [],
   "source": [
    "# subtask 2: heatmap creation:\n",
    "m3 = folium.Map([result.Latitude[0], result.Longitude[0]], zoom_start=11, prefer_canvas=True) # start at the first point\n",
    "for i in range(0, uniqueZipCodesCount):\n",
    "   \n",
    "    if (not np.isnan(result.Latitude[i])): # check for bad data\n",
    "        #print(i) # test case\n",
    "        folium.Marker([result.Latitude[i], result.Longitude[i]],\n",
    "                         marker=zipcodes2.common_city_list[-1]).add_to(m3)\n",
    "        "
   ]
  },
  {
   "cell_type": "code",
   "execution_count": 231,
   "metadata": {},
   "outputs": [
    {
     "name": "stderr",
     "output_type": "stream",
     "text": [
      "/Users/troust/anaconda3/lib/python3.7/site-packages/ipykernel_launcher.py:2: FutureWarning: Method .as_matrix will be removed in a future version. Use .values instead.\n",
      "  \n"
     ]
    }
   ],
   "source": [
    "# convert to (n, 2) nd-array format for heatmap\n",
    "stationArr = result[['Latitude', 'Longitude']].as_matrix() # isn't this already a matrix?"
   ]
  },
  {
   "cell_type": "code",
   "execution_count": 232,
   "metadata": {},
   "outputs": [],
   "source": [
    "stationArr = stationArr[~np.isnan(stationArr).any(axis=1)] # remove NaNs"
   ]
  },
  {
   "cell_type": "code",
   "execution_count": 235,
   "metadata": {},
   "outputs": [],
   "source": [
    "# plot heatmap\n",
    "m3.add_child(plugins.HeatMap(stationArr, radius=30, max_opacity=0.8))\n",
    "m3.save('heatmap20190815.html')"
   ]
  },
  {
   "cell_type": "raw",
   "metadata": {},
   "source": [
    "# remaining to be done -- figure out how to remove the data points from the heatmap. \n"
   ]
  },
  {
   "cell_type": "code",
   "execution_count": 236,
   "metadata": {},
   "outputs": [],
   "source": [
    "#from folium.plugins import HeatMap\n",
    "#map_traffic_tickets = folium.Map(location=[result.Latitude[0], result.Longitude[0]],\n",
    "#                    zoom_start = 13) \n",
    "\n",
    "#heat_data = [[result['Latitude'],result['Longitude']] for index, row in result.iterrows()]\n",
    "#HeatMap(heat_data).add_to(map_traffic_tickets)\n"
   ]
  },
  {
   "cell_type": "code",
   "execution_count": null,
   "metadata": {},
   "outputs": [],
   "source": [
    "# 4) run an analysis on the violation codes, looking specifically for those involving bike lane obstruction \n",
    "\n"
   ]
  }
 ],
 "metadata": {
  "kernelspec": {
   "display_name": "Python 3",
   "language": "python",
   "name": "python3"
  },
  "language_info": {
   "codemirror_mode": {
    "name": "ipython",
    "version": 3
   },
   "file_extension": ".py",
   "mimetype": "text/x-python",
   "name": "python",
   "nbconvert_exporter": "python",
   "pygments_lexer": "ipython3",
   "version": "3.7.3"
  }
 },
 "nbformat": 4,
 "nbformat_minor": 2
}
