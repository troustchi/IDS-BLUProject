{
 "cells": [
  {
   "cell_type": "code",
   "execution_count": 22,
   "metadata": {},
   "outputs": [],
   "source": [
    "import folium\n",
    "from folium import plugins\n",
    "import pandas as pd\n",
    "import matplotlib.pyplot as plt\n",
    "import seaborn as sns\n",
    "\n",
    "%matplotlib inline\n",
    "\n",
    "# BLU-Metis-Project/data/ProPublica data/processed\n",
    "# read in the raw data\n",
    "PPTicketData = pd.read_csv('data/ProPublica data/processed/parking_tickets.csv', sep=',', nrows=20)\n",
    "pd.to_csv()"
   ]
  },
  {
   "cell_type": "code",
   "execution_count": 23,
   "metadata": {
    "scrolled": true
   },
   "outputs": [
    {
     "data": {
      "text/html": [
       "<div>\n",
       "<style scoped>\n",
       "    .dataframe tbody tr th:only-of-type {\n",
       "        vertical-align: middle;\n",
       "    }\n",
       "\n",
       "    .dataframe tbody tr th {\n",
       "        vertical-align: top;\n",
       "    }\n",
       "\n",
       "    .dataframe thead th {\n",
       "        text-align: right;\n",
       "    }\n",
       "</style>\n",
       "<table border=\"1\" class=\"dataframe\">\n",
       "  <thead>\n",
       "    <tr style=\"text-align: right;\">\n",
       "      <th></th>\n",
       "      <th>ticket_number</th>\n",
       "      <th>issue_date</th>\n",
       "      <th>violation_location</th>\n",
       "      <th>license_plate_number</th>\n",
       "      <th>license_plate_state</th>\n",
       "      <th>license_plate_type</th>\n",
       "      <th>zipcode</th>\n",
       "      <th>violation_code</th>\n",
       "      <th>violation_description</th>\n",
       "      <th>unit</th>\n",
       "      <th>...</th>\n",
       "      <th>fine_level2_amount</th>\n",
       "      <th>current_amount_due</th>\n",
       "      <th>total_payments</th>\n",
       "      <th>ticket_queue</th>\n",
       "      <th>ticket_queue_date</th>\n",
       "      <th>notice_level</th>\n",
       "      <th>hearing_disposition</th>\n",
       "      <th>notice_number</th>\n",
       "      <th>officer</th>\n",
       "      <th>address</th>\n",
       "    </tr>\n",
       "  </thead>\n",
       "  <tbody>\n",
       "    <tr>\n",
       "      <th>0</th>\n",
       "      <td>51551278</td>\n",
       "      <td>2007-01-01 00:00:00</td>\n",
       "      <td>6014 W 64TH ST</td>\n",
       "      <td>90ad622c3274c9bdc9d8c812b79a01d0aaf7479f2bd743...</td>\n",
       "      <td>IL</td>\n",
       "      <td>PAS</td>\n",
       "      <td>60638.0</td>\n",
       "      <td>0976160F</td>\n",
       "      <td>EXPIRED PLATES OR TEMPORARY REGISTRATION</td>\n",
       "      <td>8</td>\n",
       "      <td>...</td>\n",
       "      <td>100</td>\n",
       "      <td>0</td>\n",
       "      <td>100</td>\n",
       "      <td>Paid</td>\n",
       "      <td>2007-05-21 00:00:00</td>\n",
       "      <td>SEIZ</td>\n",
       "      <td>NaN</td>\n",
       "      <td>5048648030</td>\n",
       "      <td>15227</td>\n",
       "      <td>6000 w 64th st, chicago, il</td>\n",
       "    </tr>\n",
       "    <tr>\n",
       "      <th>1</th>\n",
       "      <td>51491256</td>\n",
       "      <td>2007-01-01 00:00:00</td>\n",
       "      <td>530 N MICHIGAN</td>\n",
       "      <td>bce4dc26b2c96965380cb2b838cdbb95632b7b57160612...</td>\n",
       "      <td>IL</td>\n",
       "      <td>PAS</td>\n",
       "      <td>606343801.0</td>\n",
       "      <td>0964150B</td>\n",
       "      <td>PARKING/STANDING PROHIBITED ANYTIME</td>\n",
       "      <td>18</td>\n",
       "      <td>...</td>\n",
       "      <td>100</td>\n",
       "      <td>50</td>\n",
       "      <td>0</td>\n",
       "      <td>Define</td>\n",
       "      <td>2007-01-22 00:00:00</td>\n",
       "      <td>NaN</td>\n",
       "      <td>NaN</td>\n",
       "      <td>0</td>\n",
       "      <td>18320</td>\n",
       "      <td>500 n michigan, chicago, il</td>\n",
       "    </tr>\n",
       "    <tr>\n",
       "      <th>2</th>\n",
       "      <td>50433524</td>\n",
       "      <td>2007-01-01 00:01:00</td>\n",
       "      <td>4001 N LONG</td>\n",
       "      <td>44641e828f4d894c883c07c566063c2d99d08f2c03b3d4...</td>\n",
       "      <td>IL</td>\n",
       "      <td>PAS</td>\n",
       "      <td>60148.0</td>\n",
       "      <td>0976160F</td>\n",
       "      <td>EXPIRED PLATES OR TEMPORARY REGISTRATION</td>\n",
       "      <td>16</td>\n",
       "      <td>...</td>\n",
       "      <td>100</td>\n",
       "      <td>0</td>\n",
       "      <td>50</td>\n",
       "      <td>Paid</td>\n",
       "      <td>2007-01-31 00:00:00</td>\n",
       "      <td>VIOL</td>\n",
       "      <td>NaN</td>\n",
       "      <td>5079875240</td>\n",
       "      <td>3207</td>\n",
       "      <td>4000 n long, chicago, il</td>\n",
       "    </tr>\n",
       "    <tr>\n",
       "      <th>3</th>\n",
       "      <td>51430906</td>\n",
       "      <td>2007-01-01 00:01:00</td>\n",
       "      <td>303 E WACKER</td>\n",
       "      <td>eee50ca0d9be2debd0e7d45bad05b8674a6cf5b892230f...</td>\n",
       "      <td>IL</td>\n",
       "      <td>PAS</td>\n",
       "      <td>60601.0</td>\n",
       "      <td>0964110A</td>\n",
       "      <td>DOUBLE PARKING OR STANDING</td>\n",
       "      <td>152</td>\n",
       "      <td>...</td>\n",
       "      <td>200</td>\n",
       "      <td>0</td>\n",
       "      <td>100</td>\n",
       "      <td>Paid</td>\n",
       "      <td>2007-03-08 00:00:00</td>\n",
       "      <td>DETR</td>\n",
       "      <td>Liable</td>\n",
       "      <td>5023379950</td>\n",
       "      <td>19410</td>\n",
       "      <td>300 e wacker, chicago, il</td>\n",
       "    </tr>\n",
       "    <tr>\n",
       "      <th>4</th>\n",
       "      <td>51507779</td>\n",
       "      <td>2007-01-01 00:01:00</td>\n",
       "      <td>7 E 41ST ST</td>\n",
       "      <td>244116ca3eed4235b1f61f6d753d8c688be2a48c9fdd97...</td>\n",
       "      <td>IL</td>\n",
       "      <td>PAS</td>\n",
       "      <td>605053013.0</td>\n",
       "      <td>0976220B</td>\n",
       "      <td>SMOKED/TINTED WINDOWS PARKED/STANDING</td>\n",
       "      <td>2</td>\n",
       "      <td>...</td>\n",
       "      <td>50</td>\n",
       "      <td>0</td>\n",
       "      <td>50</td>\n",
       "      <td>Paid</td>\n",
       "      <td>2007-08-29 00:00:00</td>\n",
       "      <td>SEIZ</td>\n",
       "      <td>NaN</td>\n",
       "      <td>5079891400</td>\n",
       "      <td>66396</td>\n",
       "      <td>7 e 41st st, chicago, il</td>\n",
       "    </tr>\n",
       "  </tbody>\n",
       "</table>\n",
       "<p>5 rows × 23 columns</p>\n",
       "</div>"
      ],
      "text/plain": [
       "   ticket_number           issue_date violation_location  \\\n",
       "0       51551278  2007-01-01 00:00:00     6014 W 64TH ST   \n",
       "1       51491256  2007-01-01 00:00:00     530 N MICHIGAN   \n",
       "2       50433524  2007-01-01 00:01:00        4001 N LONG   \n",
       "3       51430906  2007-01-01 00:01:00       303 E WACKER   \n",
       "4       51507779  2007-01-01 00:01:00        7 E 41ST ST   \n",
       "\n",
       "                                license_plate_number license_plate_state  \\\n",
       "0  90ad622c3274c9bdc9d8c812b79a01d0aaf7479f2bd743...                  IL   \n",
       "1  bce4dc26b2c96965380cb2b838cdbb95632b7b57160612...                  IL   \n",
       "2  44641e828f4d894c883c07c566063c2d99d08f2c03b3d4...                  IL   \n",
       "3  eee50ca0d9be2debd0e7d45bad05b8674a6cf5b892230f...                  IL   \n",
       "4  244116ca3eed4235b1f61f6d753d8c688be2a48c9fdd97...                  IL   \n",
       "\n",
       "  license_plate_type      zipcode violation_code  \\\n",
       "0                PAS      60638.0       0976160F   \n",
       "1                PAS  606343801.0       0964150B   \n",
       "2                PAS      60148.0       0976160F   \n",
       "3                PAS      60601.0       0964110A   \n",
       "4                PAS  605053013.0       0976220B   \n",
       "\n",
       "                      violation_description  unit  ... fine_level2_amount  \\\n",
       "0  EXPIRED PLATES OR TEMPORARY REGISTRATION     8  ...                100   \n",
       "1       PARKING/STANDING PROHIBITED ANYTIME    18  ...                100   \n",
       "2  EXPIRED PLATES OR TEMPORARY REGISTRATION    16  ...                100   \n",
       "3                DOUBLE PARKING OR STANDING   152  ...                200   \n",
       "4     SMOKED/TINTED WINDOWS PARKED/STANDING     2  ...                 50   \n",
       "\n",
       "  current_amount_due  total_payments  ticket_queue    ticket_queue_date  \\\n",
       "0                  0             100          Paid  2007-05-21 00:00:00   \n",
       "1                 50               0        Define  2007-01-22 00:00:00   \n",
       "2                  0              50          Paid  2007-01-31 00:00:00   \n",
       "3                  0             100          Paid  2007-03-08 00:00:00   \n",
       "4                  0              50          Paid  2007-08-29 00:00:00   \n",
       "\n",
       "   notice_level hearing_disposition notice_number officer  \\\n",
       "0          SEIZ                 NaN    5048648030   15227   \n",
       "1           NaN                 NaN             0   18320   \n",
       "2          VIOL                 NaN    5079875240    3207   \n",
       "3          DETR              Liable    5023379950   19410   \n",
       "4          SEIZ                 NaN    5079891400   66396   \n",
       "\n",
       "                       address  \n",
       "0  6000 w 64th st, chicago, il  \n",
       "1  500 n michigan, chicago, il  \n",
       "2     4000 n long, chicago, il  \n",
       "3    300 e wacker, chicago, il  \n",
       "4     7 e 41st st, chicago, il  \n",
       "\n",
       "[5 rows x 23 columns]"
      ]
     },
     "execution_count": 23,
     "metadata": {},
     "output_type": "execute_result"
    }
   ],
   "source": [
    "# take a look at what you've got\n",
    "PPTicketData.head(5)"
   ]
  },
  {
   "cell_type": "code",
   "execution_count": 21,
   "metadata": {},
   "outputs": [
    {
     "data": {
      "text/plain": [
       "ticket_number                     int64\n",
       "issue_date                       object\n",
       "violation_location               object\n",
       "license_plate_number             object\n",
       "license_plate_state              object\n",
       "license_plate_type               object\n",
       "zipcode                         float64\n",
       "violation_code                   object\n",
       "violation_description            object\n",
       "unit                              int64\n",
       "unit_description                 object\n",
       "vehicle_make                     object\n",
       "fine_level1_amount                int64\n",
       "fine_level2_amount                int64\n",
       "current_amount_due                int64\n",
       "total_payments                    int64\n",
       "ticket_queue                     object\n",
       "ticket_queue_date                object\n",
       "notice_level                     object\n",
       "hearing_disposition              object\n",
       "notice_number                     int64\n",
       "officer                           int64\n",
       "address                          object\n",
       "FormatIssueDate          datetime64[ns]\n",
       "dtype: object"
      ]
     },
     "execution_count": 21,
     "metadata": {},
     "output_type": "execute_result"
    }
   ],
   "source": [
    "PPTicketData.dtypes"
   ]
  },
  {
   "cell_type": "code",
   "execution_count": 3,
   "metadata": {},
   "outputs": [],
   "source": [
    "# now need to format the datatypes\n",
    "# issuedate needs to be formatted as date\n",
    "PPTicketData['FormatIssueDate'] = pd.to_datetime(PPTicketData.issue_date)\n",
    "#PPTicketData.FormatIssueDate\n",
    "# violation_location should be formatted as str\n",
    "# license_plate_number is masked\n",
    "# license_plate_state is str\n",
    "# license_plate_type is categorical\n",
    "# zipcode is categorical\n",
    "# violation code is categorical\n",
    "# violation description is string\n",
    "# what is unit?\n",
    "# unit                      int64\n",
    "# unit_description         object\n",
    "# vehicle_make             object\n",
    "#fine_level1_amount        int64\n",
    "#fine_level2_amount        int64\n",
    "#current_amount_due        int64\n",
    "#total_payments            int64\n",
    "#ticket_queue             object\n",
    "#ticket_queue_date        object\n",
    "#notice_level             object\n",
    "#hearing_disposition      object\n",
    "#notice_number             int64\n",
    "#officer                   int64\n",
    "#address                  object\n",
    "#dtype: object"
   ]
  },
  {
   "cell_type": "code",
   "execution_count": 4,
   "metadata": {},
   "outputs": [],
   "source": [
    "# violation_location should be formatted as str\n",
    "#PPTicketData['violation_location'] = PPTicketData['violation_location'].astype('str') \n",
    "PPTicketData['violation_location'] = PPTicketData['violation_location'].astype('|S') \n",
    "# license_plate_number is masked\n",
    "# license_plate_state is str\n",
    "# license_plate_type is categorical\n",
    "# zipcode is categorical\n",
    "# violation code is categorical\n",
    "# violation description is string\n",
    "# what is unit?\n",
    "# unit                      int64\n",
    "# unit_description         object\n",
    "# vehicle_make             object\n",
    "#fine_level1_amount        int64\n",
    "#fine_level2_amount        int64\n",
    "#current_amount_due        int64\n",
    "#total_payments            int64\n",
    "#ticket_queue             object\n",
    "#ticket_queue_date        object\n",
    "#notice_level             object\n",
    "#hearing_disposition      object\n",
    "#notice_number             int64\n",
    "#officer                   int64\n",
    "#address                  object\n",
    "#dtype: object"
   ]
  },
  {
   "cell_type": "code",
   "execution_count": 5,
   "metadata": {
    "scrolled": true
   },
   "outputs": [
    {
     "data": {
      "text/plain": [
       "ticket_number                     int64\n",
       "issue_date                       object\n",
       "violation_location               object\n",
       "license_plate_number             object\n",
       "license_plate_state              object\n",
       "license_plate_type               object\n",
       "zipcode                         float64\n",
       "violation_code                   object\n",
       "violation_description            object\n",
       "unit                              int64\n",
       "unit_description                 object\n",
       "vehicle_make                     object\n",
       "fine_level1_amount                int64\n",
       "fine_level2_amount                int64\n",
       "current_amount_due                int64\n",
       "total_payments                    int64\n",
       "ticket_queue                     object\n",
       "ticket_queue_date                object\n",
       "notice_level                     object\n",
       "hearing_disposition              object\n",
       "notice_number                     int64\n",
       "officer                           int64\n",
       "address                          object\n",
       "FormatIssueDate          datetime64[ns]\n",
       "dtype: object"
      ]
     },
     "execution_count": 5,
     "metadata": {},
     "output_type": "execute_result"
    }
   ],
   "source": [
    "# need to format zipcode\n",
    "#PPTicketData['FormattedViolationLocation'] = pd.to_str()\n",
    "PPTicketData.dtypes"
   ]
  },
  {
   "cell_type": "code",
   "execution_count": 24,
   "metadata": {},
   "outputs": [
    {
     "name": "stdout",
     "output_type": "stream",
     "text": [
      "60148.0\n"
     ]
    }
   ],
   "source": [
    "print(min(PPTicketData.zipcode))"
   ]
  },
  {
   "cell_type": "code",
   "execution_count": 36,
   "metadata": {},
   "outputs": [],
   "source": [
    "# code from: http://tech.taskrabbit.com/blog/2014/12/04/maps-for-data-exploration/\n",
    "# We use the geo json file for our metro we generated above\n",
    "#geo_path = r'zips_geojson/CA_tl_2010_06_zcta510/CA_zip.json'\n",
    "geo_path = r'GIS maps/Boundaries - ZIP Codes.geojson'h\n",
    "# Set threshold values for the color scale on the map\n"
   ]
  },
  {
   "cell_type": "code",
   "execution_count": 37,
   "metadata": {
    "scrolled": true
   },
   "outputs": [
    {
     "ename": "AttributeError",
     "evalue": "'Map' object has no attribute 'geo_json'",
     "output_type": "error",
     "traceback": [
      "\u001b[0;31m---------------------------------------------------------------------------\u001b[0m",
      "\u001b[0;31mAttributeError\u001b[0m                            Traceback (most recent call last)",
      "\u001b[0;32m<ipython-input-37-4e971c02cdce>\u001b[0m in \u001b[0;36m<module>\u001b[0;34m\u001b[0m\n\u001b[1;32m      1\u001b[0m \u001b[0;31m# Create map object and bind our data to it\u001b[0m\u001b[0;34m\u001b[0m\u001b[0;34m\u001b[0m\u001b[0;34m\u001b[0m\u001b[0m\n\u001b[1;32m      2\u001b[0m \u001b[0mmap\u001b[0m \u001b[0;34m=\u001b[0m \u001b[0mfolium\u001b[0m\u001b[0;34m.\u001b[0m\u001b[0mMap\u001b[0m\u001b[0;34m(\u001b[0m\u001b[0mlocation\u001b[0m\u001b[0;34m=\u001b[0m\u001b[0;34m[\u001b[0m\u001b[0;36m37.769959\u001b[0m\u001b[0;34m,\u001b[0m \u001b[0;34m-\u001b[0m\u001b[0;36m122.448679\u001b[0m\u001b[0;34m]\u001b[0m\u001b[0;34m,\u001b[0m \u001b[0mdata\u001b[0m\u001b[0;34m=\u001b[0m\u001b[0mPPTicketData\u001b[0m\u001b[0;34m.\u001b[0m\u001b[0mzipcode\u001b[0m\u001b[0;34m,\u001b[0m \u001b[0mzoom_start\u001b[0m\u001b[0;34m=\u001b[0m\u001b[0;36m9\u001b[0m\u001b[0;34m)\u001b[0m\u001b[0;34m\u001b[0m\u001b[0;34m\u001b[0m\u001b[0m\n\u001b[0;32m----> 3\u001b[0;31m map.geo_json(geo_path=geo_path, data=d_SF_search, data_out = 'd_Chicago.json',\n\u001b[0m\u001b[1;32m      4\u001b[0m              legend_name='Number of Tickets')\n\u001b[1;32m      5\u001b[0m \u001b[0;34m\u001b[0m\u001b[0m\n",
      "\u001b[0;31mAttributeError\u001b[0m: 'Map' object has no attribute 'geo_json'"
     ]
    }
   ],
   "source": [
    "# Create map object and bind our data to it\n",
    "map = folium.Map(location=[37.769959, -122.448679], data=PPTicketData.zipcode, zoom_start=9)\n",
    "map.geo_json(geo_path=geo_path, data=d_SF_search, data_out = 'd_Chicago.json',\n",
    "             legend_name='Number of Tickets')\n",
    "\n",
    "\n",
    "\n",
    "map.create_map(path='sfmetro_number_of_searches.html')"
   ]
  },
  {
   "cell_type": "code",
   "execution_count": 17,
   "metadata": {},
   "outputs": [],
   "source": []
  },
  {
   "cell_type": "code",
   "execution_count": 34,
   "metadata": {
    "scrolled": true
   },
   "outputs": [
    {
     "data": {
      "text/html": [
       "<div style=\"width:100%;\"><div style=\"position:relative;width:100%;height:0;padding-bottom:60%;\"><iframe src=\"data:text/html;charset=utf-8;base64,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\" style=\"position:absolute;width:100%;height:100%;left:0;top:0;border:none !important;\" allowfullscreen webkitallowfullscreen mozallowfullscreen></iframe></div></div>"
      ],
      "text/plain": [
       "<folium.folium.Map at 0x1a1fe75d68>"
      ]
     },
     "execution_count": 34,
     "metadata": {},
     "output_type": "execute_result"
    }
   ],
   "source": [
    "m = folium.Map([-87.67760690174252, 41.91734720847048], zoom_start=5) # picked at random one location in Chicago\n",
    "m"
   ]
  },
  {
   "cell_type": "code",
   "execution_count": 19,
   "metadata": {},
   "outputs": [
    {
     "ename": "NameError",
     "evalue": "name 'df' is not defined",
     "output_type": "error",
     "traceback": [
      "\u001b[0;31m---------------------------------------------------------------------------\u001b[0m",
      "\u001b[0;31mNameError\u001b[0m                                 Traceback (most recent call last)",
      "\u001b[0;32m<ipython-input-19-60777e8950f2>\u001b[0m in \u001b[0;36m<module>\u001b[0;34m\u001b[0m\n\u001b[1;32m      1\u001b[0m \u001b[0;31m#https://dataversetech.wordpress.com/2018/04/24/folium-mapping-from-csv-file/\u001b[0m\u001b[0;34m\u001b[0m\u001b[0;34m\u001b[0m\u001b[0;34m\u001b[0m\u001b[0m\n\u001b[0;32m----> 2\u001b[0;31m \u001b[0;32mfor\u001b[0m \u001b[0mindex\u001b[0m\u001b[0;34m,\u001b[0m \u001b[0mrow\u001b[0m \u001b[0;32min\u001b[0m \u001b[0mdf\u001b[0m\u001b[0;34m.\u001b[0m\u001b[0miterrows\u001b[0m\u001b[0;34m(\u001b[0m\u001b[0;34m)\u001b[0m\u001b[0;34m:\u001b[0m\u001b[0;34m\u001b[0m\u001b[0;34m\u001b[0m\u001b[0m\n\u001b[0m\u001b[1;32m      3\u001b[0m     folium.Marker([row['Latitude'], row['Longitude']], \n\u001b[1;32m      4\u001b[0m                   \u001b[0mpopup\u001b[0m\u001b[0;34m=\u001b[0m\u001b[0mrow\u001b[0m\u001b[0;34m[\u001b[0m\u001b[0;34m'Location'\u001b[0m\u001b[0;34m]\u001b[0m\u001b[0;34m,\u001b[0m\u001b[0;34m\u001b[0m\u001b[0;34m\u001b[0m\u001b[0m\n\u001b[1;32m      5\u001b[0m                   \u001b[0micon\u001b[0m\u001b[0;34m=\u001b[0m\u001b[0mfolium\u001b[0m\u001b[0;34m.\u001b[0m\u001b[0mIcon\u001b[0m\u001b[0;34m(\u001b[0m\u001b[0micon\u001b[0m\u001b[0;34m=\u001b[0m\u001b[0;34m'cloud'\u001b[0m\u001b[0;34m)\u001b[0m\u001b[0;34m\u001b[0m\u001b[0;34m\u001b[0m\u001b[0m\n",
      "\u001b[0;31mNameError\u001b[0m: name 'df' is not defined"
     ]
    }
   ],
   "source": [
    "#https://dataversetech.wordpress.com/2018/04/24/folium-mapping-from-csv-file/\n",
    "for index, row in df.iterrows():\n",
    "    folium.Marker([row['Latitude'], row['Longitude']], \n",
    "                  popup=row['Location'],\n",
    "                  icon=folium.Icon(icon='cloud')\n",
    "                 ).add_to(m)\n",
    "m\n",
    "#m.save('/.../map4.html')\n",
    "# in order for the map to popup on in jupyter notebook comment out the m.save"
   ]
  },
  {
   "cell_type": "code",
   "execution_count": null,
   "metadata": {},
   "outputs": [],
   "source": []
  }
 ],
 "metadata": {
  "kernelspec": {
   "display_name": "Python 3",
   "language": "python",
   "name": "python3"
  },
  "language_info": {
   "codemirror_mode": {
    "name": "ipython",
    "version": 3
   },
   "file_extension": ".py",
   "mimetype": "text/x-python",
   "name": "python",
   "nbconvert_exporter": "python",
   "pygments_lexer": "ipython3",
   "version": "3.7.3"
  }
 },
 "nbformat": 4,
 "nbformat_minor": 2
}
